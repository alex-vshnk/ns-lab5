{
  "nbformat": 4,
  "nbformat_minor": 0,
  "metadata": {
    "colab": {
      "provenance": []
    },
    "kernelspec": {
      "name": "python3",
      "display_name": "Python 3"
    },
    "language_info": {
      "name": "python"
    }
  },
  "cells": [
    {
      "cell_type": "code",
      "source": [
        "import numpy as np\n",
        "from sklearn.model_selection import train_test_split\n",
        "import matplotlib.pyplot as plt\n",
        "import matplotlib\n",
        "import random\n",
        "import math"
      ],
      "metadata": {
        "id": "XEFFIWRnimwI"
      },
      "execution_count": null,
      "outputs": []
    },
    {
      "cell_type": "code",
      "source": [
        "FuncX = lambda x: x ** 2 * np.exp(np.sin(x))\n",
        "x = np.random.uniform(-5, 5, size=[100, 1])\n",
        "x = x.reshape(100)\n",
        "x.sort()\n",
        "x = x.reshape(100, 1)\n",
        "y = FuncX(x)\n",
        "countOfHiddenNeuronsRBF = 7\n",
        "countOfHiddenNeuronsPRC = 7\n",
        "sigma=np.std(y)"
      ],
      "metadata": {
        "id": "jeZd7TOoirnG"
      },
      "execution_count": null,
      "outputs": []
    },
    {
      "cell_type": "code",
      "source": [
        "xy = []\n",
        "for i in range(len(x)):\n",
        "  xy.append([x[i][0], y[i][0]])\n",
        "\n",
        "print(xy)"
      ],
      "metadata": {
        "colab": {
          "base_uri": "https://localhost:8080/"
        },
        "id": "7f0PYc40D4Rk",
        "outputId": "0d66fe4d-5462-4706-cda0-7525f02004d4"
      },
      "execution_count": null,
      "outputs": [
        {
          "output_type": "stream",
          "name": "stdout",
          "text": [
            "[[-4.994703713585853, 65.18108777851995], [-4.9479178894615226, 64.73647328382425], [-4.9182832978024145, 64.3796527544662], [-4.757057294591727, 61.45228745750545], [-4.335015584954536, 47.61206060261121], [-4.270333364142514, 45.02680481800503], [-4.2407681834461535, 43.83015001559804], [-4.175471651994586, 41.1714131875938], [-4.139539375673962, 39.7070542355364], [-4.10570183392422, 38.33237119598213], [-4.070516654551584, 36.91123865488111], [-3.9322508698880743, 31.47647387489971], [-3.72649395833198, 24.12027478833756], [-3.7108592945722485, 23.606956113720194], [-3.619113160679105, 20.739425158671644], [-3.618429985815953, 20.719018630269343], [-3.460261221013119, 16.37884570985306], [-3.355279267072231, 13.917320020248335], [-3.1795653072799324, 10.500811207048747], [-3.1742094924913697, 10.409598374367707], [-3.146239154427385, 9.94492255311283], [-2.9674100464267585, 7.404410951500854], [-2.943123722205272, 7.111935765765219], [-2.942128854495504, 7.100200686105568], [-2.8469396146386003, 6.062251927439386], [-2.8265561651099755, 5.8606878165774985], [-2.677898974571625, 4.585092332235107], [-2.5297806390165944, 3.603528329822466], [-2.502005680747681, 3.4463691685310116], [-2.4274222895026822, 3.0607778332839692], [-2.357470964275806, 2.742788864131233], [-2.3530945850789795, 2.724179465018285], [-2.2860761106692595, 2.4565647665824097], [-2.2361346460135323, 2.27684238573509], [-1.873919611431928, 1.3520956672671771], [-1.7440925893391181, 1.135924758585722], [-1.680761795766835, 1.0455409352522793], [-1.5663034892291163, 0.9025301775148938], [-1.4692605323046326, 0.7982517953072723], [-1.277592069197918, 0.6266491448390942], [-0.6649528741613473, 0.23856815090327615], [-0.45131887958429395, 0.13168862885096483], [-0.17535980120376582, 0.02582807372273645], [-0.160877766148257, 0.02205081894413129], [-0.13998208308077498, 0.017043147569548247], [-0.08719824998812165, 0.006969374333152282], [0.06267525151708853, 0.0041820947667852194], [0.07416519925403087, 0.005923526731059527], [0.12728465593401062, 0.018394245746900635], [0.22391109131528975, 0.06260139786102756], [0.3389820974025426, 0.16023902393380973], [0.40288140319844423, 0.24023073533323608], [0.6157501192162664, 0.6755304402063015], [0.9752986402926727, 2.17677913735342], [1.042976723020291, 2.580711145012492], [1.1739385240628177, 3.466026320879473], [1.1931837926633913, 3.606716959166904], [1.2837740236885908, 4.3003632532163305], [1.3247729490766789, 4.629138406158117], [1.3301300405494167, 4.672680107438864], [1.4727659928817838, 5.867821230459715], [1.55497369166976, 6.571828331355397], [1.605300392334355, 7.000815152203392], [1.6165969737036612, 7.096473328241787], [1.624463279743673, 7.162902087619572], [1.6581194696826929, 7.445113995616628], [1.682976441901748, 7.651045013533085], [1.692693893143745, 7.7308765002420925], [2.045452085645408, 10.182675250242566], [2.211110482746026, 10.901472220576505], [2.217072804836554, 10.921215115164863], [2.2545006009349553, 11.035254897140243], [2.2907990749188247, 11.129567576800651], [2.398445631993247, 11.31636936332319], [2.454018764885836, 11.360224414323588], [2.480186788184538, 11.369048495978936], [2.507597200209667, 11.37045689189545], [2.719137065847348, 11.140983777567111], [2.794832848641061, 10.972551807808054], [2.8364156451441396, 10.864975144363717], [3.1985953706245525, 9.664425613797388], [3.2165979032105714, 9.599524406847907], [3.441009459527386, 8.815986683178565], [3.502460156807288, 8.617932898119564], [3.562582138764631, 8.43430621928257], [3.616784565513978, 8.278499022263144], [3.6498467756429136, 8.188392286746812], [3.86690758115693, 7.702454875686201], [3.870848196686163, 7.695475898693058], [4.0341441994508624, 7.470135811559065], [4.116338432126515, 7.406580603765246], [4.273243695304828, 7.386329917749271], [4.361688599712032, 7.4378827245805255], [4.3808883478825535, 7.455470341223863], [4.4296109836059525, 7.510781460800619], [4.504805600148689, 7.6274810223101825], [4.64823425227938, 7.964801666402283], [4.651373012334757, 7.973996353863901], [4.753497648106876, 8.31953388966011], [4.8197236600956135, 8.595063506075823]]\n"
          ]
        }
      ]
    },
    {
      "cell_type": "code",
      "source": [
        "print(xy[0][-1])"
      ],
      "metadata": {
        "colab": {
          "base_uri": "https://localhost:8080/"
        },
        "id": "IdUUe316FEiX",
        "outputId": "3eaf0fcf-89d6-4145-e153-84270dd54cdb"
      },
      "execution_count": null,
      "outputs": [
        {
          "output_type": "stream",
          "name": "stdout",
          "text": [
            "65.18108777851995\n"
          ]
        }
      ]
    },
    {
      "cell_type": "code",
      "source": [
        "interpMtx = np.zeros((len(x), countOfHiddenNeuronsRBF))\n",
        "centers = x[np.random.choice(len(x), countOfHiddenNeuronsRBF)]\n",
        "def rbf(point, center):\n",
        "    return np.exp(-np.linalg.norm((point - center) ** 2 / (2 * sigma ** 2)))\n",
        "for i in range(len(x)):\n",
        "        for j in range(len(centers)):\n",
        "            interpMtx[i, j] = rbf(x[i], centers[j])\n",
        "weightsRBF = np.linalg.pinv(interpMtx) @ y\n",
        "\n",
        "def predictRBF(x):\n",
        "    mtx = np.zeros((len(x), countOfHiddenNeuronsRBF))\n",
        "    for i in range(len(x)):\n",
        "        for j in range(len(centers)):\n",
        "            mtx[i, j] = rbf(x[i], centers[j])\n",
        "    return mtx @ weightsRBF\n",
        "    \n",
        "# RBF aproximation\n",
        "print(\"RBF predict in 0:\")\n",
        "print(predictRBF([0]))\n",
        "print(\"FuncX in 0:\")\n",
        "print(FuncX(0))"
      ],
      "metadata": {
        "colab": {
          "base_uri": "https://localhost:8080/"
        },
        "id": "gesa7gMBisqR",
        "outputId": "21dea45f-f0e4-4e51-a93c-f03fb375320d"
      },
      "execution_count": null,
      "outputs": [
        {
          "output_type": "stream",
          "name": "stdout",
          "text": [
            "RBF predict in 0:\n",
            "[[0.25995564]]\n",
            "FuncX in 0:\n",
            "0.0\n"
          ]
        }
      ]
    },
    {
      "cell_type": "code",
      "source": [
        "def logistic(x):\n",
        "    return 1.0/(1 + np.exp(-x))\n",
        "\n",
        "def logistic_deriv(x):\n",
        "    return logistic(x) * (1 - logistic(x))\n",
        "\n",
        "LR = 1   \n",
        "\n",
        "I_dim = 1\n",
        "H_dim = 7\n",
        "\n",
        "epoch_count = 10\n",
        "\n",
        "#np.random.seed(1)\n",
        "\n",
        "\n",
        "weights_ItoH = np.random.uniform(-1, 1, (I_dim, H_dim))\n",
        "weights_HtoO = np.random.uniform(-1, 1, H_dim)\n",
        "preActivation_H = np.zeros(H_dim)\n",
        "postActivation_H = np.zeros(H_dim)\n",
        "def train1PRC(x, y):\n",
        "    \n",
        "    for epoch in range(epoch_count):\n",
        "        print(str(epoch) + \" / \" + str(epoch_count))\n",
        "        for sample in range(len(x)):\n",
        "            for node in range(H_dim):\n",
        "                preActivation_H[node] = np.dot(x[sample,:], weights_ItoH[:, node])\n",
        "                postActivation_H[node] = (preActivation_H[node])\n",
        "                \n",
        "            preActivation_O = np.dot(postActivation_H, weights_HtoO)\n",
        "            postActivation_O = preActivation_O\n",
        "            \n",
        "            FE = postActivation_O - y[sample]\n",
        "            \n",
        "            for H_node in range(H_dim):\n",
        "                S_error = FE * logistic_deriv(preActivation_O)\n",
        "                gradient_HtoO = S_error * postActivation_H[H_node]\n",
        "                           \n",
        "                for I_node in range(I_dim):\n",
        "                    input_value = x[sample]\n",
        "                    gradient_ItoH = S_error * weights_HtoO[H_node] * logistic_deriv(preActivation_H[H_node]) * input_value\n",
        "                \n",
        "                    weights_ItoH[I_node, H_node] -= LR * gradient_ItoH\n",
        "                    \n",
        "                weights_HtoO[H_node] -= LR * gradient_HtoO\n",
        "          \n",
        "def predict1PRC(x):\n",
        "    results = []\n",
        "    for sample in range(len(x)):\n",
        "        for node in range(H_dim):\n",
        "            preActivation_H[node] = np.dot(x[sample,:], weights_ItoH[:, node])\n",
        "            postActivation_H[node] = preActivation_H[node]\n",
        "                \n",
        "        preActivation_O = np.dot(postActivation_H, weights_HtoO)\n",
        "        results.append(preActivation_O)           \n",
        "    return results"
      ],
      "metadata": {
        "id": "vRv-hlHoi6Wm"
      },
      "execution_count": null,
      "outputs": []
    },
    {
      "cell_type": "code",
      "source": [
        "train1PRC(x,y)  "
      ],
      "metadata": {
        "colab": {
          "base_uri": "https://localhost:8080/"
        },
        "id": "TQE2z_3gi-Mb",
        "outputId": "11432a64-173d-4f83-a5aa-f7af388dd5af"
      },
      "execution_count": null,
      "outputs": [
        {
          "output_type": "stream",
          "name": "stdout",
          "text": [
            "0 / 10\n",
            "1 / 10\n",
            "2 / 10\n",
            "3 / 10\n",
            "4 / 10\n",
            "5 / 10\n",
            "6 / 10\n",
            "7 / 10\n",
            "8 / 10\n",
            "9 / 10\n"
          ]
        }
      ]
    },
    {
      "cell_type": "code",
      "source": [
        "def init_parameters(n_features, n_neurons, n_output):   \n",
        "    np.random.seed(100)\n",
        "    W1 = np.random.uniform(size=(n_features,n_neurons), low=-1.0, high=1.0)\n",
        "    b1 = np.zeros(shape=(1,n_neurons))\n",
        "    b1 += 1\n",
        "    W2 = np.random.uniform(size=(n_neurons,n_output), low=-1.0, high=1.0)\n",
        "    b2 = np.zeros(shape=(1,n_output))\n",
        "    b2 += 1\n",
        "    parameters = {\"W1\": W1,\n",
        "                  \"b1\": b1,\n",
        "                  \"W2\": W2,\n",
        "                  \"b2\": b2}\n",
        "    \n",
        "    return parameters\n",
        "def linear_function(W, X, b):\n",
        "    \n",
        "    return (X @ W)+b\n",
        "def sigmoid_function(Z):\n",
        "    \n",
        "    return 1/(1+np.exp(-Z))\n",
        "def cost_function(A, y):\n",
        "    \n",
        "    return (np.mean(np.power(A - y,2)))/2\n",
        "def predict2PRC(X, W1, W2, b1, b2):\n",
        "    \n",
        "    Z1 = linear_function(W1, X, b1)\n",
        "    S1 = Z1\n",
        "    Z2 = linear_function(W2, S1, b2)\n",
        "    S2 = Z2\n",
        "    return S2\n",
        "def fit2PRC(X, y, n_features=1, n_neurons=7, n_output=1, iterations=10, eta=0.01):\n",
        "    \n",
        "    ## ~~ Initialize parameters ~~##\n",
        "    param = init_parameters(n_features=n_features, \n",
        "                            n_neurons=n_neurons, \n",
        "                            n_output=n_output)\n",
        "\n",
        "    ## ~~ storage errors after each iteration ~~##\n",
        "    errors = []\n",
        "    \n",
        "    for _ in range(iterations):\n",
        "        \n",
        "        ##~~ Forward-propagation ~~##\n",
        "        \n",
        "        Z1 = linear_function(param['W1'], X, param['b1'])\n",
        "        S1 = Z1\n",
        "        Z2 = linear_function(param['W2'], S1, param['b2'])\n",
        "        S2 = Z2\n",
        "        \n",
        "        ##~~ Error computation ~~##\n",
        "        error = cost_function(S2, y)\n",
        "        errors.append(error)\n",
        "        \n",
        "        ##~~ Backpropagation ~~##\n",
        "        \n",
        "        # update output weights\n",
        "        delta2 = (S2 - y)*eta\n",
        "        W2_gradients = S1.T @ delta2\n",
        "        param[\"W2\"] = param[\"W2\"] - W2_gradients * eta\n",
        "\n",
        "        # update output bias\n",
        "        param[\"b2\"] = param[\"b2\"] - np.sum(delta2, axis=0, keepdims=True) * eta\n",
        "\n",
        "        # update hidden weights\n",
        "        delta1 = (delta2 @ param[\"W2\"].T )*eta\n",
        "        W1_gradients = X.T @ delta1 \n",
        "        param[\"W1\"] = param[\"W1\"] - W1_gradients * eta\n",
        "\n",
        "        # update hidden bias\n",
        "        param[\"b1\"] = param[\"b1\"] - np.sum(delta1, axis=0, keepdims=True) * eta\n",
        "        \n",
        "    return errors, param"
      ],
      "metadata": {
        "id": "Ysv7VW6HjC84"
      },
      "execution_count": null,
      "outputs": []
    },
    {
      "cell_type": "code",
      "source": [
        "errors, param = fit2PRC(x, y, iterations=5000, eta=0.001)\n",
        "y_pred = predict2PRC(x, param[\"W1\"], param[\"W2\"], param[\"b1\"], param[\"b2\"])"
      ],
      "metadata": {
        "id": "_X-1yWC6jJ2c"
      },
      "execution_count": null,
      "outputs": []
    },
    {
      "cell_type": "code",
      "source": [
        "class Perceptron:\n",
        "    def __init__(self, l_rate=0.0001):\n",
        "        self.layers = []\n",
        "        self.l_rate = l_rate\n",
        "        self.out = 0\n",
        "        self.append_layer(2,30)\n",
        "        self.append_layer(30,30)\n",
        "        self.append_layer(30,1)\n",
        "\n",
        "    def append_layer(self, n_inputs, n_output, existBias=False, isActivate = False):\n",
        "        self.layers.append(PerceptronLayer(n_inputs, n_output, existBias, isActivate))\n",
        "\n",
        "    def forward_propagate(self, x):\n",
        "        out = x\n",
        "        for layer in self.layers:\n",
        "            out = layer.forward_propagate(out)\n",
        "        self.out = out\n",
        "        return out\n",
        "\n",
        "    def backward_propagate(self, y):\n",
        "        error = self.out - y\n",
        "        for i in reversed(range(len(self.layers))):\n",
        "            if i != len(self.layers)-1:\n",
        "                self.layers[i].backward_propagate(self.layers[i+1].neurons,False, error)\n",
        "            else:\n",
        "                self.layers[i].backward_propagate(None, True, y)\n",
        "            \n",
        "\n",
        "    def update_weights(self, row):\n",
        "        for i in range(len(self.layers)):\n",
        "            inputs = row[:-1]\n",
        "            if i != 0:\n",
        "                inputs = [neuron['output'] for neuron in self.layers[i - 1].neurons]\n",
        "                if i != 1:\n",
        "                    oldInputs = inputs\n",
        "                    inputs = []\n",
        "                    for j in range(len(oldInputs)):\n",
        "                        current = oldInputs[j]\n",
        "                        previousInputs = [neuron['output'] for neuron in self.layers[i - 2].neurons]\n",
        "                        sumIn = 0\n",
        "                        for item in previousInputs:\n",
        "                            sumIn += item * current\n",
        "                        inputs.append(sumIn)\n",
        "            for neuron in self.layers[i].neurons:\n",
        "                for j in range(len(inputs)):\n",
        "                    neuron['weights'][j] -= self.l_rate * neuron['delta'] * inputs[j]\n",
        "                neuron['weights'][-1] -= self.l_rate * neuron['delta']\n",
        "    def fit(self, dataset):\n",
        "        for _ in range(100):\n",
        "            for row in dataset:\n",
        "                self.forward_propagate(row)\n",
        "                self.backward_propagate(row[-1])\n",
        "                self.update_weights(row)\n",
        "    def predict(self, x_list):\n",
        "        result = []\n",
        "        for x in x_list:\n",
        "            result.append(self.forward_propagate([x, None]))\n",
        "        return result\n",
        "class PerceptronLayer:\n",
        "    def __init__(self, n_inputs, n_output, existBias=False, isActivate = False):\n",
        "        if existBias:\n",
        "            n_inputs += 1\n",
        "        self.neurons = [{'weights': [np.random.uniform(-np.sqrt(1 / n_inputs), np.sqrt(1 / n_inputs)) for i in range(n_inputs)]}\n",
        "                        for i in range(n_output)]\n",
        "        self.existBias = existBias\n",
        "        self.isActivate = isActivate\n",
        "\n",
        "    def transfer(self, activation):\n",
        "        if self.isActivate:\n",
        "            return 1.0 / (1.0 + math.exp(-activation))\n",
        "        return activation\n",
        "\n",
        "    def transfer_derivative(self, output):\n",
        "        if self.isActivate:\n",
        "            return output * (1.0 - output)\n",
        "        return 1\n",
        "\n",
        "    def activate(self, weights, inputs):\n",
        "        activation = weights[-1]\n",
        "        for i in range(len(weights)-1):\n",
        "            activation += weights[i] * inputs[i]\n",
        "        return activation\n",
        "\n",
        "    def forward_propagate(self, x):\n",
        "        new_inputs = []\n",
        "        for neuron in self.neurons:\n",
        "            activation = self.activate(neuron['weights'], x)\n",
        "            neuron['output'] = self.transfer(activation)\n",
        "            new_inputs.append(neuron['output'])\n",
        "        return new_inputs\n",
        "\n",
        "    def backward_propagate(self, nextNeurons = None, isLast = False, y = None):\n",
        "        errors = list()\n",
        "        if not isLast:\n",
        "            for j in range(len(self.neurons)):\n",
        "                error = 0.0\n",
        "                for neuron in nextNeurons:\n",
        "                    error += (neuron['weights'][j] * neuron['delta'])\n",
        "                    errors.append(error)\n",
        "        else:\n",
        "            for j in range(len(self.neurons)):\n",
        "                neuron = self.neurons[j]\n",
        "                errors.append(neuron['output'] - y)\n",
        "        for j in range(len(self.neurons)):\n",
        "            neuron = self.neurons[j]\n",
        "            neuron['delta'] = errors[j] * \\\n",
        "                self.transfer_derivative(neuron['output'])\n",
        "\n",
        "perc = Perceptron()\n",
        "perc.fit(xy)\n",
        "Y_perc = perc.predict(x)\n",
        "plt.plot(x, predictRBF(x), \"g\", label=\"Радиально-базисная сеть\")\n",
        "plt.plot(x, y, \"black\", label=\"Функция\")\n",
        "plt.plot(np.ravel(x), np.ravel(Y_perc), label=\"Персептрон\")\n",
        "plt.xlabel(\"x\")\n",
        "plt.ylabel(\"y\")\n",
        "plt.legend()\n",
        "plt.grid()\n",
        "plt.show()"
      ],
      "metadata": {
        "colab": {
          "base_uri": "https://localhost:8080/",
          "height": 279
        },
        "id": "5orF7q22jZ5-",
        "outputId": "c709c7c8-261c-4ad3-a721-7f3295d02fad"
      },
      "execution_count": null,
      "outputs": [
        {
          "output_type": "display_data",
          "data": {
            "text/plain": [
              "<Figure size 432x288 with 1 Axes>"
            ],
            "image/png": "[encoded data removed]"
          },
          "metadata": {
            "needs_background": "light"
          }
        }
      ]
    },
    {
      "cell_type": "code",
      "source": [],
      "metadata": {
        "id": "uCb9lerNjghX"
      },
      "execution_count": null,
      "outputs": []
    },
    {
      "cell_type": "markdown",
      "source": [
        "Задание 2"
      ],
      "metadata": {
        "id": "i8vIilPVQcm7"
      }
    },
    {
      "cell_type": "code",
      "source": [
        "# температура воздуха в Минске\n",
        "# последний месяц\n",
        "y = np.array([[4.17],[4.18],[4.17],[4.19],[4.19],[4.19],[4.20],[4.20],[4.23],[4.22],[4.24],[4.24],[4.24],[4.26],[4.30],[4.17],[4.23],[4.25],[4.25],[4.25],[4.30],[4.28],[4.29],[4.30],[4.19],[4.18],[4.18],[4.23],[4.25],[4.24],[4.19]])\n",
        "x = np.array([[1],[2],[3],[4],[5],[6],[7],[8],[9],[10],[11],[12],[13],[14],[15],[16],[17],[18],[19],[20],[21],[22],[23],[24],[25],[26],[27],[28],[29],[30],[31]])\n",
        "\n",
        "interpMtx = np.zeros((len(x), countOfHiddenNeuronsRBF))\n",
        "centers = x[np.random.choice(len(x), countOfHiddenNeuronsRBF)]\n",
        "\n",
        "def rbf(point, center):\n",
        "    return np.exp(-np.linalg.norm((point - center) ** 2 / (2 * sigma ** 2)))\n",
        "\n",
        "for i in range(len(x)):\n",
        "    for j in range(len(centers)):\n",
        "        interpMtx[i, j] = rbf(x[i], centers[j])\n",
        "\n",
        "weightsRBF = np.linalg.pinv(interpMtx) @ y\n",
        "\n",
        "def predictZAD2(x):\n",
        "    mtx = np.zeros((len(x), countOfHiddenNeuronsRBF))\n",
        "    for i in range(len(x)):\n",
        "        for j in range(len(centers)):\n",
        "            mtx[i, j] = rbf(x[i], centers[j])\n",
        "    return mtx @ weightsRBF"
      ],
      "metadata": {
        "id": "DfZjOiewjnrR"
      },
      "execution_count": null,
      "outputs": []
    },
    {
      "cell_type": "code",
      "source": [
        "y = np.array([4.17,4.18,4.17,4.19,4.19,4.19,4.20,4.20,4.23,4.22,4.24,4.24,4.24,4.26,4.30,4.17,4.23,4.25,4.25,4.25,4.30,4.28,4.29,4.30,4.19,4.18,4.18,4.23,4.25,4.24,4.19])"
      ],
      "metadata": {
        "id": "3uzocBL2jo92"
      },
      "execution_count": null,
      "outputs": []
    },
    {
      "cell_type": "code",
      "source": [
        "class RecurrentNeuralNetwork:\n",
        "    def __init__(self, input_number, hidden_number, output_number, l_rate=0.1):\n",
        "        self.l_rate = l_rate\n",
        "        self.w1 = np.random.uniform(-np.sqrt(1 / input_number), np.sqrt(1 / input_number), size=[input_number, hidden_number])\n",
        "        self.b1 = np.random.uniform(size=[1, hidden_number])\n",
        "        self.w2 = np.random.uniform(-np.sqrt(1 / hidden_number), np.sqrt(1 / hidden_number), size=[hidden_number, hidden_number])\n",
        "        self.b2 = np.random.uniform(size=[1, hidden_number])\n",
        "        self.h = np.zeros(shape=[1, hidden_number])\n",
        "        self.h_prev = np.zeros(shape=[1, hidden_number])\n",
        "        self.w3 = np.random.uniform(-np.sqrt(1 / hidden_number), np.sqrt(1 / hidden_number), size=[hidden_number, output_number])\n",
        "\n",
        "    def transfer(self, x):\n",
        "        return np.tanh(x)\n",
        "\n",
        "    def transfer_derivative(self, output):\n",
        "        return (1 - np.tanh(output) ** 2)\n",
        "\n",
        "    def forward_propagate(self, x):\n",
        "        self.x = x\n",
        "        self.h_prev = self.h\n",
        "        self.h = np.dot(self.x,self.w1) + self.b1 + np.dot(self.h_prev,self.w2) + self.b2\n",
        "        self.h = self.transfer(self.h)\n",
        "        self.output = np.dot(self.h,self.w3)\n",
        "        return self.output\n",
        "    \n",
        "    def backward_propagate(self, y):\n",
        "        error = self.output - y\n",
        "        self.dw = np.dot(self.h.T,error)\n",
        "        delta = self.transfer_derivative(self.h) * np.dot(error,self.w3.T)\n",
        "        self.dw_w1 = np.dot(self.x.T,delta)\n",
        "        self.db_b1 = delta\n",
        "        self.dw_w2 = np.dot(self.h_prev.T,delta)\n",
        "        self.db_b2 = delta\n",
        "        \n",
        "    def update_weights(self):\n",
        "        self.w1 -= self.l_rate * self.dw_w1\n",
        "        self.b1 -= self.l_rate * self.db_b1\n",
        "        self.w2 -= self.l_rate * self.dw_w2\n",
        "        self.b2 -= self.l_rate * self.db_b2\n",
        "        self.w3 -= self.l_rate * self.dw\n",
        "\n",
        "class SlidingLayer:\n",
        "    def __init__(self, n_inputs, n_output, isActivate = False):\n",
        "               \n",
        "        self.weight = np.random.uniform(low=-np.sqrt(1 / n_inputs), \n",
        "            high=np.sqrt(1 / n_inputs), size=[n_inputs, n_output])\n",
        "\n",
        "        self.isActivate = isActivate\n",
        "\n",
        "    def transfer(self, activation):\n",
        "        if self.isActivate:\n",
        "            return np.tanh(activation)\n",
        "        return activation\n",
        "\n",
        "    def transfer_derivative(self, output):\n",
        "        if self.isActivate:\n",
        "            return 1 - np.tanh(output) ** 2\n",
        "        return 1\n",
        "\n",
        "    def forward_propagate(self, x):\n",
        "        self.input = x\n",
        "        self.not_activated = np.dot(x,self.weight)\n",
        "        self.out = self.transfer(self.not_activated)\n",
        "        return self.out\n",
        "    \n",
        "    def backward_propagate(self, error):\n",
        "        delta = error * self.transfer_derivative(self.not_activated)\n",
        "        self.dw = np.dot(self.input.T,delta)\n",
        "        return np.dot(delta,self.weight.T)\n",
        "\n",
        "\n",
        "class SlidingPerceptron:\n",
        "    def __init__(self, l_rate=0.1):\n",
        "        self.l_rate = l_rate\n",
        "        self.layers = []        \n",
        "        self.output = 0\n",
        "        \n",
        "    def append_layer(self, n_inputs, n_output, isActivate = False):\n",
        "        self.layers.append(SlidingLayer(n_inputs, n_output, isActivate))\n",
        "    \n",
        "    def forward_propagate(self, input):\n",
        "        self.output = input\n",
        "        for layer in self.layers:\n",
        "            self.output = layer.forward_propagate(self.output)\n",
        "        return self.output\n",
        "    \n",
        "    def backward_propagate(self, y):\n",
        "        error = self.output - y\n",
        "        for layer in list(reversed(self.layers)):\n",
        "            error = layer.backward_propagate(error)\n",
        "    \n",
        "    def update_weights(self):\n",
        "        for layer in self.layers:\n",
        "            layer.weight -= self.l_rate * layer.dw"
      ],
      "metadata": {
        "id": "1dQyDcWhjxj8"
      },
      "execution_count": null,
      "outputs": []
    },
    {
      "cell_type": "code",
      "execution_count": null,
      "metadata": {
        "id": "E9TouNIKJ98R",
        "colab": {
          "base_uri": "https://localhost:8080/",
          "height": 279
        },
        "outputId": "29eecd76-559a-4671-9044-31bd6f57a2c4"
      },
      "outputs": [
        {
          "output_type": "display_data",
          "data": {
            "text/plain": [
              "<Figure size 432x288 with 1 Axes>"
            ],
            "image/png": "[encoded data removed]"
          },
          "metadata": {
            "needs_background": "light"
          }
        }
      ],
      "source": [
        "class RNN:\n",
        "    \"\"\"\n",
        "    Класс рекуррентной нейронной сети (сети Элмана)\n",
        "    \"\"\"\n",
        "    def __init__(self, input_number, hidden_number, output_number, lr=0.01):\n",
        "        \"\"\"\n",
        "        Конструктор класса\n",
        "        input_number - число входных нейронов\n",
        "        hidden_number - число нейронов на скрытом слое\n",
        "        output_number - число выходных нейронов\n",
        "        lr - скорость обучения\n",
        "        \"\"\"\n",
        "        self.lr = lr\n",
        "\n",
        "        self.w_ih = np.random.uniform(-np.sqrt(1 / input_number), np.sqrt(1 / input_number), \n",
        "            size=[input_number, hidden_number])\n",
        "        self.b_ih = np.random.uniform(size=[1, hidden_number])\n",
        "\n",
        "        self.w_hh = np.random.uniform(-np.sqrt(1 / hidden_number), np.sqrt(1 / hidden_number), \n",
        "            size=[hidden_number, hidden_number])\n",
        "        self.b_hh = np.random.uniform(size=[1, hidden_number])\n",
        "\n",
        "        self.h = np.zeros(shape=[1, hidden_number])\n",
        "        self.h_t_1 = np.zeros(shape=[1, hidden_number])\n",
        "\n",
        "        self.w = np.random.uniform(-np.sqrt(1 / hidden_number), np.sqrt(1 / hidden_number), \n",
        "            size=[hidden_number, output_number])\n",
        "        \n",
        "    def forward(self, x):\n",
        "        \"\"\"\n",
        "        Функция прямого распространения\n",
        "        \"\"\"\n",
        "        self.x = x\n",
        "        self.h_t_1 = self.h\n",
        "        self.h = self.x @ self.w_ih + self.b_ih + self.h_t_1 @ self.w_hh + self.b_hh\n",
        "        self.h = np.tanh(self.h)\n",
        "        self.out = self.h @ self.w\n",
        "        return self.out\n",
        "    \n",
        "    def __call__(self, *args):\n",
        "        \"\"\"\n",
        "        Перегруженная функция\n",
        "        Вместо .forward(x) можно написать (x)\n",
        "        \"\"\"\n",
        "        return self.forward(*args)\n",
        "    \n",
        "    def backward(self, y):\n",
        "        \"\"\"\n",
        "        Функция обратного распространения, в которой рассчитываются градиенты\n",
        "        \"\"\"\n",
        "        dloss = self.out - y\n",
        "        self.dw = self.h.T @ dloss\n",
        "        dh = dloss @ self.w.T\n",
        "        grad = (1 - np.tanh(self.h) ** 2) * dh\n",
        "        self.dw_ih = self.x.T @ grad\n",
        "        self.db_ih = 1 * grad\n",
        "        self.dw_hh = self.h_t_1.T @ grad\n",
        "        self.db_hh = 1 * grad\n",
        "        \n",
        "    def update(self):\n",
        "        \"\"\"\n",
        "        Функция обновления весов\n",
        "        \"\"\"\n",
        "        self.w -= self.lr * self.dw\n",
        "        self.w_ih -= self.lr * self.dw_ih\n",
        "        self.b_ih -= self.lr * self.db_ih\n",
        "        self.w_hh -= self.lr * self.dw_hh\n",
        "        self.b_hh -= self.lr * self.db_hh\n",
        "\n",
        "sequence_len = 20\n",
        "dataset = y\n",
        "\n",
        "mean = np.mean(dataset)\n",
        "std = np.std(dataset)\n",
        "rnn = RecurrentNeuralNetwork(sequence_len, 31, 1, 0.002)\n",
        "perceptron = SlidingPerceptron(0.002)\n",
        "perceptron.append_layer(sequence_len, 31, isActivate = True)\n",
        "perceptron.append_layer(31, 1)\n",
        "for epoch in range(2500):\n",
        "    q = np.random.randint(0, sequence_len)\n",
        "    for i in range(q, len(dataset) - sequence_len, sequence_len):\n",
        "        x = (np.array(dataset[i : i+sequence_len]).reshape(1, sequence_len) - mean) / std\n",
        "        y = (np.array(dataset[i+sequence_len : i+sequence_len+1]).reshape(1, 1) - mean) / std\n",
        "        rnn.forward_propagate(x)\n",
        "        rnn.backward_propagate(y)\n",
        "        rnn.update_weights()\n",
        "        perceptron.forward_propagate(x)\n",
        "        perceptron.backward_propagate(y)\n",
        "        perceptron.update_weights()\n",
        "rnn_y = []\n",
        "perceptron_y = []\n",
        "\n",
        "for i in dataset[-sequence_len:]:\n",
        "    rnn_y.append((i - mean) / std)\n",
        "    perceptron_y.append((i - mean) / std)\n",
        "\n",
        "for i in range(len(dataset)):\n",
        "    out_rnn = rnn.forward_propagate(np.array(rnn_y[i:i+sequence_len]).reshape(1, sequence_len)).reshape(-1)\n",
        "    out_perceptron = perceptron.forward_propagate(np.array(perceptron_y[i:i+sequence_len]).reshape(1, sequence_len)).reshape(-1)\n",
        "    rnn_y.append(out_rnn[0])\n",
        "    perceptron_y.append(out_perceptron[0])\n",
        "    \n",
        "elpred = np.array(rnn_y[sequence_len:]) * std + mean\n",
        "perpred = np.array(perceptron_y[sequence_len:])* std + mean\n",
        "plt.plot(elpred, label=\"Сеть Элмана\")\n",
        "plt.plot(perpred, label=\"Персептрон\")\n",
        "y = np.array([[4.17],[4.18],[4.17],[4.19],[4.19],[4.19],[4.20],[4.20],[4.23],[4.22],[4.24],[4.24],[4.24],[4.26],[4.30],[4.17],[4.23],[4.25],[4.25],[4.25],[4.30],[4.28],[4.29],[4.30],[4.19],[4.18],[4.18],[4.23],[4.25],[4.24],[4.19]])\n",
        "plt.plot(y,\"black\", label=\"Температура воздуха в Минске\")\n",
        "plt.xlabel(\"День\")\n",
        "plt.ylabel(\"Температура воздуха в Минске\")\n",
        "plt.legend()\n",
        "plt.grid()\n",
        "plt.show()"
      ]
    },
    {
      "cell_type": "code",
      "source": [
        "y = np.array([4.17,4.18,4.17,4.19,4.19,4.19,4.20,4.20,4.23,4.22,4.24,4.24,4.24,4.26,4.30,4.17,4.23,4.25,4.25,4.25,4.30,4.28,4.29,4.30,4.19,4.18,4.18,4.23,4.25,4.24,4.19])"
      ],
      "metadata": {
        "id": "uiDF-taaNNG7"
      },
      "execution_count": null,
      "outputs": []
    },
    {
      "cell_type": "code",
      "source": [
        "for i in range(len(perpred)):\n",
        "  perpred[i] = round(perpred[i], 2)\n",
        "  elpred[i] = round(elpred[i], 2)"
      ],
      "metadata": {
        "id": "P91NHjt8N3AA"
      },
      "execution_count": null,
      "outputs": []
    },
    {
      "cell_type": "code",
      "source": [
        "print(\"Персептрон: \")\n",
        "print(perpred)\n",
        "print(\"Сеть Элмана: \")\n",
        "print(elpred)\n",
        "print(\"Исходные данные: \")\n",
        "print(y)"
      ],
      "metadata": {
        "id": "wV0I97pkM-JG",
        "colab": {
          "base_uri": "https://localhost:8080/"
        },
        "outputId": "52315eaa-011e-4273-a1ce-50ec1f92bff5"
      },
      "execution_count": null,
      "outputs": [
        {
          "output_type": "stream",
          "name": "stdout",
          "text": [
            "Персептрон: \n",
            "[4.22 4.22 4.15 4.13 4.14 4.18 4.23 4.24 4.19 4.2  4.23 4.22 4.19 4.2\n",
            " 4.25 4.32 4.32 4.27 4.25 4.28 4.29 4.28 4.26 4.26 4.31 4.32 4.24 4.18\n",
            " 4.18 4.21 4.22]\n",
            "Сеть Элмана: \n",
            "[4.21 4.2  4.18 4.17 4.18 4.2  4.25 4.24 4.21 4.2  4.2  4.25 4.25 4.27\n",
            " 4.28 4.28 4.27 4.26 4.24 4.26 4.29 4.3  4.28 4.24 4.21 4.19 4.19 4.19\n",
            " 4.2  4.2  4.21]\n",
            "Исходные данные: \n",
            "[4.17 4.18 4.17 4.19 4.19 4.19 4.2  4.2  4.23 4.22 4.24 4.24 4.24 4.26\n",
            " 4.3  4.17 4.23 4.25 4.25 4.25 4.3  4.28 4.29 4.3  4.19 4.18 4.18 4.23\n",
            " 4.25 4.24 4.19]\n"
          ]
        }
      ]
    },
    {
      "cell_type": "code",
      "source": [
        "perp_acc = 0\n",
        "el_acc = 0\n",
        "\n",
        "for i in range(len(perpred)):\n",
        "  if abs(y[i] - perpred[i]) <= 0.05:\n",
        "    perp_acc += 1\n",
        "  if abs(y[i] - elpred[i]) <= 0.05:\n",
        "    el_acc += 1\n",
        "\n",
        "perp_acc /= round(len(perpred), 2)\n",
        "el_acc /= round(len(elpred), 2)"
      ],
      "metadata": {
        "id": "gQ8Nmr_qOlRm"
      },
      "execution_count": null,
      "outputs": []
    },
    {
      "cell_type": "code",
      "source": [
        "print(\"Точность на персептроне: \" + str(perp_acc))\n",
        "print(\"Точность на сети Элмана: \" + str(el_acc))"
      ],
      "metadata": {
        "id": "yRgz-4KwPHiD",
        "colab": {
          "base_uri": "https://localhost:8080/"
        },
        "outputId": "650b3b70-0a33-4e87-ef01-b4a976450e14"
      },
      "execution_count": null,
      "outputs": [
        {
          "output_type": "stream",
          "name": "stdout",
          "text": [
            "Точность на персептроне: 0.6774193548387096\n",
            "Точность на сети Элмана: 0.9354838709677419\n"
          ]
        }
      ]
    }
  ]
}